{
 "cells": [
  {
   "cell_type": "code",
   "execution_count": 1,
   "metadata": {},
   "outputs": [],
   "source": [
    "import random\n",
    "import numpy as np\n",
    "import operator\n",
    "import pandas as pd"
   ]
  },
  {
   "cell_type": "code",
   "execution_count": 2,
   "metadata": {},
   "outputs": [],
   "source": [
    "class City:\n",
    "    def __init__(self,x,y):\n",
    "        self.x = x\n",
    "        self.y = y\n",
    "\n",
    "    def distanceBetweenCity(self,city):\n",
    "        xDistance = abs(self.x - city.x)\n",
    "        yDistance = abs(self.y - city.y)\n",
    "        distance = np.sqrt((xDistance ** 2) + (yDistance ** 2))\n",
    "        return distance\n",
    "    def __repr__(self):\n",
    "        return \"(\" + str(self.x) + \",\" + str(self.y) + \")\""
   ]
  },
  {
   "cell_type": "code",
   "execution_count": 3,
   "metadata": {},
   "outputs": [],
   "source": [
    "def fitness(route):\n",
    "    pathDistance = 0\n",
    "    for i in range(len(route)):\n",
    "        city1 = route[i]\n",
    "        city2 = None\n",
    "        if i+1 == len(route):\n",
    "            city2 = route[0]\n",
    "        else:\n",
    "            city2 = route[i+1]\n",
    "        pathDistance += city2.distanceBetweenCity(city1)\n",
    "#     print(pathDistance)\n",
    "    fitValue = 1/float(pathDistance)\n",
    "    return fitValue\n",
    "#     return 0"
   ]
  },
  {
   "cell_type": "code",
   "execution_count": 4,
   "metadata": {},
   "outputs": [],
   "source": [
    "def sortPopulation(population):\n",
    "    fitnessScores = {}\n",
    "    for i in range(len(population)):\n",
    "        fitnessScores[i] = fitness(population[i])\n",
    "#     print(\"before sorting {}\".format(fitnessScores))\n",
    "    fitnessScores = sorted(fitnessScores.items(),key = lambda x: x[1], reverse = True)\n",
    "#     print(\"after sorting {}\".format(fitnessScores))\n",
    "    return fitnessScores"
   ]
  },
  {
   "cell_type": "code",
   "execution_count": 5,
   "metadata": {},
   "outputs": [],
   "source": [
    "# for initializing first generation routes\n",
    "def firstGenRoute(Allcity):\n",
    "    temp = random.sample(Allcity,len(Allcity))\n",
    "    return temp"
   ]
  },
  {
   "cell_type": "code",
   "execution_count": 6,
   "metadata": {},
   "outputs": [],
   "source": [
    "def selection(sortedPopulation, freePass):\n",
    "    selectedIndex = []\n",
    "    tempS = np.array(sortedPopulation)\n",
    "    for i in range(0, freePass):                        #superior candidates gets free pass\n",
    "        selectedIndex.append(sortedPopulation[i][0])\n",
    "    remaining = len(sortedPopulation) - freePass\n",
    "    for i in range(len(sortedPopulation)-1):\n",
    "        tempS[i+1][1] += tempS[i][1]\n",
    "\n",
    "    totalSum = sortedPopulation[len(sortedPopulation)-1][1]\n",
    "#     print(\" Total Sum in selection \",totalSum)\n",
    "#     print(\" Remaining \",remaining)\n",
    "    for i in range(len(sortedPopulation)):\n",
    "        tempS[i][1] = 100*(tempS[i][1]/float(totalSum))\n",
    "\n",
    "    for i in range(int(remaining)):\n",
    "        pick = 100 * random.random()\n",
    "        for j in range(len(sortedPopulation)):\n",
    "            if pick <= tempS[j][1]:\n",
    "                selectedIndex.append(sortedPopulation[j][0])\n",
    "                break\n",
    "    return selectedIndex"
   ]
  },
  {
   "cell_type": "code",
   "execution_count": 7,
   "metadata": {},
   "outputs": [],
   "source": [
    "def findParents(population, selectedIndex):\n",
    "    parentsToMate = []\n",
    "    for i in range(len(selectedIndex)):\n",
    "        index = selectedIndex[i]\n",
    "        parentsToMate.append(population[index])\n",
    "    return parentsToMate"
   ]
  },
  {
   "cell_type": "code",
   "execution_count": 8,
   "metadata": {},
   "outputs": [],
   "source": [
    "#order Crossover\n",
    "\n",
    "def crossover(parent1, parent2):\n",
    "    child = []\n",
    "    \n",
    "    rand1 = round(random.random() * len(parent1))\n",
    "    rand2 = round(random.random() * len(parent2))\n",
    "    \n",
    "    firstDivider = min(rand1, rand2)\n",
    "    secondDivider = max(rand1, rand2)\n",
    "\n",
    "    for i in range(firstDivider, secondDivider):\n",
    "        child.append(parent1[i])\n",
    "    for i in parent2:\n",
    "        if i not in child:\n",
    "            child.append(i)\n",
    "#     print (child)\n",
    "    return child"
   ]
  },
  {
   "cell_type": "code",
   "execution_count": 9,
   "metadata": {},
   "outputs": [],
   "source": [
    "def mating(parentsToMate, freePass):\n",
    "    children = []\n",
    "    parentsToMate = random.sample(parentsToMate, len(parentsToMate))\n",
    "\n",
    "    for i in range(freePass):\n",
    "        children.append(parentsToMate[i])\n",
    "\n",
    "    remaining = len(parentsToMate) - freePass    \n",
    "#     print (\"remaining \",remaining,\" \",freePass)\n",
    "    for i in range(0, remaining):\n",
    "        child = crossover(parentsToMate[i], parentsToMate[len(parentsToMate)-i-1])\n",
    "        children.append(child)\n",
    "#     print(children)\n",
    "    return children"
   ]
  },
  {
   "cell_type": "code",
   "execution_count": 10,
   "metadata": {},
   "outputs": [],
   "source": [
    "def mutation(population, mutationRate):\n",
    "    mutatedChild = []\n",
    "#     print(type(population))\n",
    "    for i in range(len(population)):\n",
    "        rand = float(random.random())\n",
    "        if (random.random() < mutationRate):\n",
    "            index1 = int(random.random()*len(population[i]))\n",
    "            index2 = int(random.random()*len(population[i]))\n",
    "            temp1 = population[i][index1]\n",
    "            temp2 = population[i][index2]\n",
    "            population[i][index2] = temp1\n",
    "            population[i][index1] = temp2\n",
    "        mutatedChild.append(population[i])\n",
    "    return mutatedChild"
   ]
  },
  {
   "cell_type": "code",
   "execution_count": 11,
   "metadata": {},
   "outputs": [],
   "source": [
    "def nextGeneration(population, mutationRate, freePass):\n",
    "    nextGen = []\n",
    "#     print(type(mutationRate))\n",
    "#     print(\" length of population \",len(population))\n",
    "#     print(\" length of sortedpopulation \",len(sortedPopulation))\n",
    "#     print(\" length of selectedIndex \",len(selectedIndex))\n",
    "#     print(\" length of parentstomate \",len(parentsToMate))\n",
    "#     print(\" length of children \",len(children))\n",
    "    sortedPopulation = sortPopulation(population)\n",
    "    selectedIndex = selection(sortedPopulation, freePass)\n",
    "    parentsToMate = findParents(population, selectedIndex)\n",
    "    children = mating(parentsToMate, freePass)\n",
    "    children = mutation(children, mutationRate)\n",
    "    return children"
   ]
  },
  {
   "cell_type": "code",
   "execution_count": 12,
   "metadata": {},
   "outputs": [],
   "source": [
    "def geneticAlgo(population, populationSize, mutationRate, generations, freepass):\n",
    "    print(\" First Route Distance :- {}\".format(1/sortPopulation(population)[0][1]))\n",
    "    print (\"First Route \",population[sortPopulation(population)[0][0]])\n",
    "#     print(sortPopulation(population))\n",
    "    currentBest = sortPopulation(population)[0][1]\n",
    "    wait = 0\n",
    "    for i in range(generations):\n",
    "#         print(\"Generation {} Results\".format(i+1))\n",
    "        population = nextGeneration(population,mutationRate,freepass)\n",
    "\n",
    "    print(\"Final distance: \" + str(1 / sortPopulation(population)[0][1]))\n",
    "    print (\"Best Route \",population[sortPopulation(population)[0][0]])"
   ]
  },
  {
   "cell_type": "code",
   "execution_count": 13,
   "metadata": {},
   "outputs": [
    {
     "name": "stdout",
     "output_type": "stream",
     "text": [
      "Give number of city :- 22\n",
      "Population Size for Algorithm :- 150\n",
      "Give Mutataion Rate :- 0.01\n",
      "Number of Generation to run the Algorithm :- 500\n"
     ]
    }
   ],
   "source": [
    "numberOfCities = int(input(\"Give number of city :- \"))\n",
    "populationSize = int(input(\"Population Size for Algorithm :- \"))\n",
    "mutationRate = float(input(\"Give Mutataion Rate :- \"))\n",
    "generations = int(input(\"Number of Generation to run the Algorithm :- \"))\n",
    "freePass = round(populationSize * 0.1)"
   ]
  },
  {
   "cell_type": "code",
   "execution_count": 14,
   "metadata": {},
   "outputs": [
    {
     "name": "stdout",
     "output_type": "stream",
     "text": [
      "Generating 22 number of city with random Co-ordinates \n"
     ]
    }
   ],
   "source": [
    "#generating random city Co-ordinates\n",
    "\n",
    "Allcity = []\n",
    "print (\"Generating {} number of city with random Co-ordinates \".format(numberOfCities))\n",
    "for i in range(int(numberOfCities)):\n",
    "    city = City(x=int(random.random() * 200), y = int(random.random() * 200))\n",
    "    Allcity.append(city)\n",
    "# print (Allcity)"
   ]
  },
  {
   "cell_type": "code",
   "execution_count": 15,
   "metadata": {},
   "outputs": [],
   "source": [
    "#initialize First Generation population\n",
    "population = []\n",
    "for i in range(populationSize):\n",
    "    temp = firstGenRoute(Allcity)\n",
    "    population.append(temp)"
   ]
  },
  {
   "cell_type": "markdown",
   "metadata": {},
   "source": [
    "geneticFunction(allCity,populatonSize,mutation,generation,pass)\n",
    "geneticfuntion requires paramater:\n",
    "First paramater is -> co-ordinates of all city \n",
    "second parameter is-> population size\n",
    "third paramter is -> mutaion rate\n",
    "fourth paramter is-> number of generation it has to run\n",
    "fifth parameter is-> number of best candidates to pass in every generation"
   ]
  },
  {
   "cell_type": "code",
   "execution_count": 16,
   "metadata": {},
   "outputs": [
    {
     "name": "stdout",
     "output_type": "stream",
     "text": [
      " First Route Distance :- 1750.1897914228778\n",
      "First Route  [(113,72), (199,4), (158,17), (28,170), (81,189), (148,57), (72,106), (104,142), (91,87), (70,118), (184,127), (79,126), (180,129), (96,90), (118,16), (63,61), (76,64), (36,77), (6,79), (0,129), (35,183), (64,44)]\n",
      "Final distance: 815.3529772821709\n",
      "Best Route  [(199,4), (158,17), (118,16), (64,44), (76,64), (63,61), (36,77), (6,79), (0,129), (28,170), (35,183), (81,189), (104,142), (79,126), (70,118), (72,106), (96,90), (91,87), (113,72), (180,129), (184,127), (148,57)]\n"
     ]
    }
   ],
   "source": [
    "geneticAlgo(population,populationSize,mutationRate,generations,freePass)"
   ]
  },
  {
   "cell_type": "markdown",
   "metadata": {},
   "source": []
  }
 ],
 "metadata": {
  "celltoolbar": "Raw Cell Format",
  "kernelspec": {
   "display_name": "Python 3",
   "language": "python",
   "name": "python3"
  },
  "language_info": {
   "codemirror_mode": {
    "name": "ipython",
    "version": 3
   },
   "file_extension": ".py",
   "mimetype": "text/x-python",
   "name": "python",
   "nbconvert_exporter": "python",
   "pygments_lexer": "ipython3",
   "version": "3.6.7"
  }
 },
 "nbformat": 4,
 "nbformat_minor": 2
}
